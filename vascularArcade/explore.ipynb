{
 "cells": [
  {
   "cell_type": "code",
   "execution_count": null,
   "id": "8c251cd2",
   "metadata": {},
   "outputs": [],
   "source": [
    "# ! pip install constrainedlr"
   ]
  },
  {
   "cell_type": "code",
   "execution_count": 2,
   "id": "2c22e889",
   "metadata": {
    "scrolled": true
   },
   "outputs": [],
   "source": [
    "import cv2 as cv\n",
    "import seaborn as sns\n",
    "import shutil\n",
    "import time\n",
    "import scipy\n",
    "import os\n",
    "import glob\n",
    "import pandas as pd\n",
    "from tqdm import tqdm \n",
    "import matplotlib.pyplot as plt\n",
    "import numpy as np\n",
    "from skimage.morphology import skeletonize\n",
    "from skimage import morphology as morph\n",
    "from scipy.optimize import curve_fit, least_squares\n",
    "from sklearn.metrics import mean_squared_error\n",
    "from sklearn.linear_model import RANSACRegressor, LinearRegression\n",
    "from skimage.transform import hough_circle, hough_circle_peaks\n",
    "from skimage.feature import canny\n",
    "from sklearn.preprocessing import PolynomialFeatures\n",
    "from skimage.morphology import footprints, disk\n",
    "\n",
    "\n",
    "join = os.path.join\n",
    "\n",
    "homeDir = r\"/Users/fabianyii/Library/CloudStorage/OneDrive-UniversityofEdinburgh/Projects/eyeShape\"\n",
    "vessel_path = join(homeDir, \"imageOutputs\", \"UKB\", \"vesselMasks\", \"artery_vein\", \"artery_binary_process\")\n",
    "d = pd.read_csv(join(homeDir,\"CSVoutputs\", \"UKB\", \"ODfoveaResults.csv\"))\n",
    "names = list(d.fundus)"
   ]
  },
  {
   "cell_type": "markdown",
   "id": "521d952f",
   "metadata": {},
   "source": [
    "### Arcade analysis"
   ]
  },
  {
   "cell_type": "code",
   "execution_count": 10,
   "id": "23af808e",
   "metadata": {},
   "outputs": [
    {
     "data": {
      "text/plain": [
       "'1032172_21015_1_0.png'"
      ]
     },
     "execution_count": 10,
     "metadata": {},
     "output_type": "execute_result"
    }
   ],
   "source": [
    "name = names[1] \n",
    "name"
   ]
  },
  {
   "cell_type": "code",
   "execution_count": 11,
   "id": "a5fc7906",
   "metadata": {},
   "outputs": [
    {
     "name": "stdout",
     "output_type": "stream",
     "text": [
      "#### RANSAC parabola : Excluded 352 outliers out of 1533 vessel pixels ####\n",
      "Concavity index: 0.0013432163\n",
      "Top median residual: 36.0597457857\n",
      "Bottom median residual: 38.1415491481\n",
      "Median residual: 36.1010003336\n",
      "R2: 0.8473946643\n"
     ]
    }
   ],
   "source": [
    "\n",
    "!python main.py --image_name \"1032172_21015_1_0.png\" --show_preprocessing --show_ransac_parabola --fit_verbose --mark_vertex \n"
   ]
  },
  {
   "cell_type": "code",
   "execution_count": 12,
   "id": "47fc159c",
   "metadata": {},
   "outputs": [],
   "source": [
    "\n",
    "# python main.py --parallelisation --show_preprocessing --show_ransac_parabola --save_fig\n",
    "# python main.py --parallelisation --show_preprocessing --show_ransac_parabola --save_fig --vessel_path /Users/fabianyii/Library/CloudStorage/OneDrive-UniversityofEdinburgh/Projects/eyeShape/imageOutputs/UKB/vesselMasks/artery_vein/artery_binary_process\n",
    "# python main.py --parallelisation --show_preprocessing --show_ransac_parabola --save_fig --vessel_path /Users/fabianyii/Library/CloudStorage/OneDrive-UniversityofEdinburgh/Projects/eyeShape/imageOutputs/UKB/vesselMasks/artery_vein/vein_binary_process\n",
    "\n"
   ]
  },
  {
   "cell_type": "code",
   "execution_count": null,
   "id": "6839ac3a",
   "metadata": {},
   "outputs": [],
   "source": []
  },
  {
   "cell_type": "code",
   "execution_count": null,
   "id": "8efbf5ca",
   "metadata": {},
   "outputs": [],
   "source": []
  },
  {
   "cell_type": "code",
   "execution_count": null,
   "id": "c8c8e782",
   "metadata": {},
   "outputs": [],
   "source": []
  },
  {
   "cell_type": "code",
   "execution_count": null,
   "id": "3f81f6b1",
   "metadata": {},
   "outputs": [],
   "source": []
  },
  {
   "cell_type": "code",
   "execution_count": null,
   "id": "85d26357",
   "metadata": {},
   "outputs": [],
   "source": []
  },
  {
   "cell_type": "code",
   "execution_count": null,
   "id": "943808b9",
   "metadata": {},
   "outputs": [],
   "source": [
    "   "
   ]
  },
  {
   "cell_type": "code",
   "execution_count": null,
   "id": "78242acd",
   "metadata": {},
   "outputs": [],
   "source": []
  },
  {
   "cell_type": "code",
   "execution_count": null,
   "id": "5f716120",
   "metadata": {},
   "outputs": [],
   "source": []
  },
  {
   "cell_type": "code",
   "execution_count": null,
   "id": "3d17d9be",
   "metadata": {},
   "outputs": [],
   "source": []
  },
  {
   "cell_type": "code",
   "execution_count": null,
   "id": "f1596b8a",
   "metadata": {},
   "outputs": [],
   "source": []
  },
  {
   "cell_type": "code",
   "execution_count": null,
   "id": "f70523bf",
   "metadata": {},
   "outputs": [],
   "source": []
  },
  {
   "cell_type": "code",
   "execution_count": null,
   "id": "5f52e54b",
   "metadata": {},
   "outputs": [],
   "source": []
  }
 ],
 "metadata": {
  "kernelspec": {
   "display_name": "Python 3 (ipykernel)",
   "language": "python",
   "name": "python3"
  },
  "language_info": {
   "codemirror_mode": {
    "name": "ipython",
    "version": 3
   },
   "file_extension": ".py",
   "mimetype": "text/x-python",
   "name": "python",
   "nbconvert_exporter": "python",
   "pygments_lexer": "ipython3",
   "version": "3.10.8"
  }
 },
 "nbformat": 4,
 "nbformat_minor": 5
}
